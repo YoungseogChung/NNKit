{
 "cells": [
  {
   "cell_type": "code",
   "execution_count": 9,
   "metadata": {},
   "outputs": [],
   "source": [
    "%load_ext autoreload\n",
    "%autoreload 2"
   ]
  },
  {
   "cell_type": "code",
   "execution_count": 107,
   "metadata": {},
   "outputs": [],
   "source": [
    "import numpy as np\n",
    "import pickle as pkl\n",
    "import matplotlib.pyplot as plt\n",
    "from tqdm import tqdm"
   ]
  },
  {
   "cell_type": "code",
   "execution_count": 39,
   "metadata": {},
   "outputs": [],
   "source": [
    "train_dis = pkl.load(open('train_dis.pkl', 'rb'), encoding='latin1')\n",
    "test_dis = pkl.load(open('test_dis.pkl', 'rb'), encoding='latin1')\n",
    "train_nondis = pkl.load(open('train_nondis.pkl', 'rb'), encoding='latin1')\n",
    "test_nondis = pkl.load(open('test_nondis.pkl', 'rb'), encoding='latin1')\n",
    "train_datasets = [train_dis, train_nondis]\n",
    "test_datasets = [test_dis, test_nondis]"
   ]
  },
  {
   "cell_type": "code",
   "execution_count": 139,
   "metadata": {},
   "outputs": [],
   "source": [
    "WINDOW_LEN = 100\n",
    "WINDOW_SAMPLING_LEN = 10\n",
    "PRED_INTERVAL = 250\n",
    "ACT_SIGNAL = ['pinj']\n",
    "TARGET_SIGNAL = ['efsbetan']\n",
    "SIGNAL_LIST = ['R0', 'aminor', 'dssdenest', 'efsbetan', 'efsli', \n",
    "               'efsvolume', 'ip', 'kappa', 'tribot', 'tritop', \n",
    "               'pinj']"
   ]
  },
  {
   "cell_type": "code",
   "execution_count": 140,
   "metadata": {},
   "outputs": [],
   "source": [
    "assert WINDOW_LENGTH % WINDOW_SAMPLING_LEN == 0"
   ]
  },
  {
   "cell_type": "code",
   "execution_count": 146,
   "metadata": {},
   "outputs": [
    {
     "name": "stdout",
     "output_type": "stream",
     "text": [
      "[10] [3]\n"
     ]
    }
   ],
   "source": [
    "act_idx = [SIGNAL_LIST.index(x) for x in ACT_SIGNAL]\n",
    "target_idx = [SIGNAL_LIST.index(x) for x in TARGET_SIGNAL]\n",
    "print(act_idx, target_idx)"
   ]
  },
  {
   "cell_type": "code",
   "execution_count": 42,
   "metadata": {},
   "outputs": [],
   "source": [
    "# SIGNAL_LIST = ['R0', 'aminor', 'dssdenest', 'efsbetan', 'efsli', 'efsvolume', 'ip', 'kappa', 'tribot', 'tritop',\n",
    "#  'pinj', 'pinj_15l', 'pinj_15r', 'pinj_21l', 'pinj_21r', 'pinj_30l', 'pinj_30r', 'pinj_33l', 'pinj_33r']"
   ]
  },
  {
   "cell_type": "markdown",
   "metadata": {},
   "source": [
    "### state is last 100ms window, action is next 250ms mean power, next state is efsbetan 250ms later"
   ]
  },
  {
   "cell_type": "code",
   "execution_count": 147,
   "metadata": {},
   "outputs": [],
   "source": [
    "def find_tidx(target_t, t_array):\n",
    "    t_array = t_array.flatten()\n",
    "    if target_t > t_array[-1]:\n",
    "        raise RuntimeError('Target time exceeded array')\n",
    "    \n",
    "    if target_t == t_array[0]:\n",
    "        return 0\n",
    "    \n",
    "    target_idx = None\n",
    "    for t_idx in range(t_array.size - 1):\n",
    "        if t_array[t_idx] < target_t and target_t <= t_array[t_idx+1]:\n",
    "            target_idx = t_idx+1\n",
    "            break\n",
    "    if target_idx is None:\n",
    "        print('Error in finding time index: target {} in time arr from {} to {}'.format(\n",
    "        target_t, t_array[0], t_array[-1]))\n",
    "    return target_idx"
   ]
  },
  {
   "cell_type": "code",
   "execution_count": 148,
   "metadata": {
    "scrolled": true
   },
   "outputs": [],
   "source": [
    "def make_prediction_data(dataset_list):\n",
    "    sar_list = []\n",
    "    X_list = []\n",
    "    y_list = []\n",
    "    for dataset in dataset_list:\n",
    "        for shot,v in tqdm(dataset.items()):\n",
    "            times = v[0].flatten()\n",
    "            if times.size == 0:\n",
    "                print(shot)\n",
    "                continue\n",
    "            values = v[1]\n",
    "            window_beg_time = times[0]\n",
    "            \n",
    "            \n",
    "\n",
    "            while True:\n",
    "                window_end_time = window_beg_time + WINDOW_LENGTH\n",
    "                pred_time = window_end_time + PRED_INTERVAL\n",
    "                if pred_time > times[-1]:\n",
    "                    break\n",
    "\n",
    "                window_beg_idx = find_tidx(window_beg_time, times)\n",
    "                window_end_idx = find_tidx(window_end_time, times)\n",
    "                pred_time_idx = find_tidx(pred_time, times)\n",
    "\n",
    "                try:\n",
    "                    window = values[:, window_beg_idx:window_end_idx]\n",
    "                    action = np.mean(values[act_idx, window_end_idx : pred_time_idx], axis = 1)\n",
    "                    target = values[target_idx, pred_time_idx]\n",
    "                except:\n",
    "                    print(shot, values.shape, window_beg_idx, window_end_idx, pred_time_idx)\n",
    "                    raise RuntimeError\n",
    "                window_sample = window[:,np.linspace(0, WINDOW_LEN-1, WINDOW_SAMPLING_LEN).astype(int)]\n",
    "\n",
    "                curr_sasr = (window_sample, action, target)\n",
    "                curr_X = np.concatenate([window_sample.flatten(), action.flatten()]).reshape(1,-1)\n",
    "                assert curr_X.shape[0] == 1\n",
    "                curr_y = target.flatten().reshape(1,-1)\n",
    "\n",
    "                sar_list.append(curr_sasr)\n",
    "                X_list.append(curr_X)\n",
    "                y_list.append(curr_y)\n",
    "\n",
    "                window_beg_time += 10\n",
    "    X_npy = np.concatenate(X_list, axis=0)\n",
    "    y_npy = np.concatenate(y_list, axis=0)\n",
    "    \n",
    "    return X_npy, y_npy, sar_list"
   ]
  },
  {
   "cell_type": "code",
   "execution_count": 132,
   "metadata": {},
   "outputs": [
    {
     "name": "stderr",
     "output_type": "stream",
     "text": [
      "100%|██████████| 240/240 [00:43<00:00,  5.48it/s]\n",
      "  3%|▎         | 8/240 [00:01<00:36,  6.29it/s]"
     ]
    },
    {
     "name": "stdout",
     "output_type": "stream",
     "text": [
      "161420\n"
     ]
    },
    {
     "name": "stderr",
     "output_type": "stream",
     "text": [
      " 97%|█████████▋| 233/240 [00:43<00:01,  6.18it/s]"
     ]
    },
    {
     "name": "stdout",
     "output_type": "stream",
     "text": [
      "162300\n"
     ]
    },
    {
     "name": "stderr",
     "output_type": "stream",
     "text": [
      "100%|██████████| 240/240 [00:45<00:00,  5.32it/s]\n"
     ]
    }
   ],
   "source": [
    "train_X, train_y, train_sar = make_prediction_data([train_dis, train_nondis])"
   ]
  },
  {
   "cell_type": "code",
   "execution_count": 149,
   "metadata": {},
   "outputs": [
    {
     "name": "stderr",
     "output_type": "stream",
     "text": [
      "100%|██████████| 60/60 [00:10<00:00,  5.49it/s]\n",
      "100%|██████████| 60/60 [00:12<00:00,  4.88it/s]\n"
     ]
    }
   ],
   "source": [
    "test_X, test_y, test_sar = make_prediction_data([test_dis, test_nondis])"
   ]
  },
  {
   "cell_type": "code",
   "execution_count": 137,
   "metadata": {},
   "outputs": [],
   "source": [
    "data_dir = 'data_1/'\n",
    "np.save(data_dir+'train_X.npy', train_X)\n",
    "np.save(data_dir+'train_y.npy', train_y)\n",
    "np.save(data_dir+'test_X.npy', test_X)\n",
    "np.save(data_dir+'test_y.npy', test_y)\n",
    "pkl.dump(train_sar, open(data_dir+'train_sar.pkl', 'wb'))\n",
    "pkl.dump(test_sar, open(data_dir+'test_sar.pkl', 'wb'))"
   ]
  },
  {
   "cell_type": "code",
   "execution_count": 151,
   "metadata": {},
   "outputs": [
    {
     "data": {
      "text/plain": [
       "(19082, 111)"
      ]
     },
     "execution_count": 151,
     "metadata": {},
     "output_type": "execute_result"
    }
   ],
   "source": [
    "test_X.shape"
   ]
  },
  {
   "cell_type": "code",
   "execution_count": null,
   "metadata": {},
   "outputs": [],
   "source": []
  }
 ],
 "metadata": {
  "kernelspec": {
   "display_name": "py36",
   "language": "python",
   "name": "py36"
  },
  "language_info": {
   "codemirror_mode": {
    "name": "ipython",
    "version": 3
   },
   "file_extension": ".py",
   "mimetype": "text/x-python",
   "name": "python",
   "nbconvert_exporter": "python",
   "pygments_lexer": "ipython3",
   "version": "3.6.8"
  }
 },
 "nbformat": 4,
 "nbformat_minor": 4
}
