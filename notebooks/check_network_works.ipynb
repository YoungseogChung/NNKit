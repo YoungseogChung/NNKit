{
 "cells": [
  {
   "cell_type": "code",
   "execution_count": 1,
   "metadata": {},
   "outputs": [],
   "source": [
    "%load_ext autoreload\n",
    "%autoreload 2"
   ]
  },
  {
   "cell_type": "code",
   "execution_count": 2,
   "metadata": {},
   "outputs": [],
   "source": [
    "import os, sys\n",
    "import numpy as np\n",
    "import matplotlib.pyplot as plt\n",
    "import torch\n",
    "import torch.nn as nn\n",
    "\n",
    "sys.path.append('../')\n",
    "from models.model import cnn"
   ]
  },
  {
   "cell_type": "code",
   "execution_count": 3,
   "metadata": {},
   "outputs": [],
   "source": [
    "arch_str = \"\"\"\n",
    "c1(och 2, ker 3, str 1, pad 1, bias, pt avg, pk 2, ps 1); \n",
    "fc(out 5, bias, actv tanh);\n",
    "fc(out 1, bias)\n",
    "\"\"\""
   ]
  },
  {
   "cell_type": "markdown",
   "metadata": {},
   "source": [
    "### make test input"
   ]
  },
  {
   "cell_type": "code",
   "execution_count": 4,
   "metadata": {},
   "outputs": [
    {
     "name": "stdout",
     "output_type": "stream",
     "text": [
      "tensor([[[1., 1., 1., 1., 1.],\n",
      "         [1., 1., 1., 1., 1.]],\n",
      "\n",
      "        [[2., 2., 2., 2., 2.],\n",
      "         [2., 2., 2., 2., 2.]]])\n"
     ]
    }
   ],
   "source": [
    "test_in = torch.ones((2,2,5)).float()\n",
    "test_in[1,:,:] = 2.0\n",
    "print(test_in)"
   ]
  },
  {
   "cell_type": "code",
   "execution_count": 23,
   "metadata": {},
   "outputs": [
    {
     "name": "stdout",
     "output_type": "stream",
     "text": [
      "tensor([[[0.7773, 0.4208, 0.1714, 0.7680, 0.9926],\n",
      "         [0.8560, 0.7465, 0.1259, 0.6079, 0.7602]],\n",
      "\n",
      "        [[0.8552, 0.4199, 0.1301, 0.9309, 0.0832],\n",
      "         [0.5147, 0.5509, 0.9046, 0.5909, 1.0000]]])\n"
     ]
    }
   ],
   "source": [
    "test_in = torch.rand((2,2,5)).float()\n",
    "# test_in[1,:,:] = 2.0\n",
    "print(test_in)"
   ]
  },
  {
   "cell_type": "markdown",
   "metadata": {},
   "source": [
    "### (optional) make test output"
   ]
  },
  {
   "cell_type": "code",
   "execution_count": 5,
   "metadata": {},
   "outputs": [
    {
     "name": "stdout",
     "output_type": "stream",
     "text": [
      "tensor([[-10.],\n",
      "        [ 10.]])\n"
     ]
    }
   ],
   "source": [
    "test_out = torch.ones((2,1))*np.array([[-10],[10]])\n",
    "test_out = test_out.float()\n",
    "print(test_out)"
   ]
  },
  {
   "cell_type": "markdown",
   "metadata": {},
   "source": [
    "### Make network"
   ]
  },
  {
   "cell_type": "code",
   "execution_count": 24,
   "metadata": {},
   "outputs": [
    {
     "name": "stdout",
     "output_type": "stream",
     "text": [
      "input to conv1D of 2 channels * 5 signal length (10 values)\n",
      "output of conv1D of 2 channels * 4 signal length (8 values)\n",
      "output of linear layer of 5 values\n",
      "output of linear layer of 1 values\n",
      "--Return--\n",
      "> /home/scratch/youngsec/rs/fusion/dynamics_models/NNKit/models/model.py(441)__init__()->None\n",
      "-> import pdb; pdb.set_trace()\n",
      "(Pdb) c\n"
     ]
    }
   ],
   "source": [
    "test_net = cnn(arch_str, 2, 5)"
   ]
  },
  {
   "cell_type": "code",
   "execution_count": 25,
   "metadata": {},
   "outputs": [
    {
     "data": {
      "text/plain": [
       "cnn(\n",
       "  (loss): MSELoss()\n",
       "  (layers): ModuleList(\n",
       "    (0): Conv1DLayer(\n",
       "      (pool): AvgPool1d(kernel_size=(2,), stride=(1,), padding=(0,))\n",
       "    )\n",
       "    (1): LinearLayer(\n",
       "      (activation): Tanh()\n",
       "    )\n",
       "    (2): LinearLayer()\n",
       "  )\n",
       ")"
      ]
     },
     "execution_count": 25,
     "metadata": {},
     "output_type": "execute_result"
    }
   ],
   "source": [
    "test_net"
   ]
  },
  {
   "cell_type": "markdown",
   "metadata": {},
   "source": [
    "### Manually set weights of network"
   ]
  },
  {
   "cell_type": "code",
   "execution_count": 8,
   "metadata": {},
   "outputs": [
    {
     "name": "stdout",
     "output_type": "stream",
     "text": [
      "12 [2, 2, 3]\n",
      "2 [2]\n",
      "Parameter containing:\n",
      "tensor([[[ 0.,  1.,  2.],\n",
      "         [ 3.,  4.,  5.]],\n",
      "\n",
      "        [[ 6.,  7.,  8.],\n",
      "         [ 9., 10., 11.]]], requires_grad=True)\n",
      "Parameter containing:\n",
      "tensor([0.1000, 0.2000], requires_grad=True)\n"
     ]
    }
   ],
   "source": [
    "# set conv layer weights\n",
    "w_shape = list(test_net.layers[0].weight.shape)\n",
    "w_size = np.product(w_shape)\n",
    "print(w_size, w_shape)\n",
    "b_shape = list(test_net.layers[0].bias.shape)\n",
    "b_size = np.product(b_shape)\n",
    "print(b_size, b_shape)\n",
    "\n",
    "test_net.layers[0].weight = nn.Parameter(torch.arange(w_size).view(w_shape))\n",
    "test_net.layers[0].bias = nn.Parameter(torch.arange(1,b_size+1).view(b_shape)/10.)\n",
    "\n",
    "print(test_net.layers[0].weight)\n",
    "print(test_net.layers[0].bias)"
   ]
  },
  {
   "cell_type": "code",
   "execution_count": 9,
   "metadata": {},
   "outputs": [
    {
     "name": "stdout",
     "output_type": "stream",
     "text": [
      "40 [5, 8]\n",
      "5 [5]\n",
      "Parameter containing:\n",
      "tensor([[ 0.,  1.,  2.,  3.,  4.,  5.,  6.,  7.],\n",
      "        [ 8.,  9., 10., 11., 12., 13., 14., 15.],\n",
      "        [16., 17., 18., 19., 20., 21., 22., 23.],\n",
      "        [24., 25., 26., 27., 28., 29., 30., 31.],\n",
      "        [32., 33., 34., 35., 36., 37., 38., 39.]], requires_grad=True)\n",
      "Parameter containing:\n",
      "tensor([0.1000, 0.2000, 0.3000, 0.4000, 0.5000], requires_grad=True)\n"
     ]
    }
   ],
   "source": [
    "# set conv layer weights\n",
    "w_shape = list(test_net.layers[1].weight.shape)\n",
    "w_size = np.product(w_shape)\n",
    "print(w_size, w_shape)\n",
    "b_shape = list(test_net.layers[1].bias.shape)\n",
    "b_size = np.product(b_shape)\n",
    "print(b_size, b_shape)\n",
    "\n",
    "test_net.layers[1].weight = nn.Parameter(torch.arange(w_size).view(w_shape))\n",
    "test_net.layers[1].bias = nn.Parameter(torch.arange(1,b_size+1).view(b_shape)/10.)\n",
    "\n",
    "print(test_net.layers[1].weight)\n",
    "print(test_net.layers[1].bias)"
   ]
  },
  {
   "cell_type": "markdown",
   "metadata": {},
   "source": [
    "### Print layers of network"
   ]
  },
  {
   "cell_type": "code",
   "execution_count": 26,
   "metadata": {},
   "outputs": [
    {
     "name": "stdout",
     "output_type": "stream",
     "text": [
      "LAYER\n",
      "Parameter containing:\n",
      "tensor([[[ 0.0244, -0.2529, -0.2012],\n",
      "         [-0.2885, -0.0662, -0.1659]],\n",
      "\n",
      "        [[ 0.1932,  0.3786,  0.1079],\n",
      "         [-0.1345,  0.2772, -0.2146]]], requires_grad=True)\n",
      "Parameter containing:\n",
      "tensor([0.1756, 0.3224], requires_grad=True)\n",
      "\n",
      "\n",
      "\n",
      "LAYER\n",
      "Parameter containing:\n",
      "tensor([[ 0.0568, -0.1025,  0.0888,  0.2366,  0.0478, -0.3074, -0.2672, -0.2915],\n",
      "        [ 0.2880, -0.1745,  0.0342, -0.0862,  0.2396,  0.0882, -0.0861,  0.1680],\n",
      "        [ 0.3023, -0.1783, -0.2027, -0.0726, -0.3350, -0.2648,  0.2378, -0.1394],\n",
      "        [-0.0159,  0.0503, -0.2911, -0.1049, -0.0697,  0.3455,  0.0080,  0.0325],\n",
      "        [ 0.2014, -0.2582,  0.1819,  0.2187, -0.2137,  0.2059,  0.1928,  0.0958]],\n",
      "       requires_grad=True)\n",
      "Parameter containing:\n",
      "tensor([-0.0315,  0.2167, -0.2266, -0.0667, -0.2653], requires_grad=True)\n",
      "\n",
      "\n",
      "\n",
      "LAYER\n",
      "Parameter containing:\n",
      "tensor([[-0.4282, -0.2514, -0.1093, -0.2895,  0.4367]], requires_grad=True)\n",
      "Parameter containing:\n",
      "tensor([-0.2467], requires_grad=True)\n",
      "\n",
      "\n",
      "\n"
     ]
    }
   ],
   "source": [
    "for l in test_net.layers:\n",
    "    print('LAYER')\n",
    "    for x in l.parameters(): print(x)\n",
    "    print('\\n\\n')"
   ]
  },
  {
   "cell_type": "markdown",
   "metadata": {},
   "source": [
    "### Print output of network"
   ]
  },
  {
   "cell_type": "code",
   "execution_count": 27,
   "metadata": {},
   "outputs": [
    {
     "data": {
      "text/plain": [
       "tensor([[-0.2394],\n",
       "        [-0.2500]], grad_fn=<AddmmBackward>)"
      ]
     },
     "execution_count": 27,
     "metadata": {},
     "output_type": "execute_result"
    }
   ],
   "source": [
    "test_net(test_in)"
   ]
  },
  {
   "cell_type": "code",
   "execution_count": 12,
   "metadata": {},
   "outputs": [
    {
     "data": {
      "text/plain": [
       "1662.6"
      ]
     },
     "execution_count": 12,
     "metadata": {},
     "output_type": "execute_result"
    }
   ],
   "source": [
    "np.mean([1110.1, 2215.1])"
   ]
  },
  {
   "cell_type": "code",
   "execution_count": 13,
   "metadata": {},
   "outputs": [
    {
     "data": {
      "text/plain": [
       "552.5000000090498"
      ]
     },
     "execution_count": 13,
     "metadata": {},
     "output_type": "execute_result"
    }
   ],
   "source": [
    "np.sqrt(np.var([1110.1, 2215.1])+1e-5)"
   ]
  },
  {
   "cell_type": "code",
   "execution_count": 14,
   "metadata": {},
   "outputs": [
    {
     "data": {
      "text/plain": [
       "6.750000740740702"
      ]
     },
     "execution_count": 14,
     "metadata": {},
     "output_type": "execute_result"
    }
   ],
   "source": [
    "np.sqrt(np.var([13.6, 27.1])+1e-5)"
   ]
  },
  {
   "cell_type": "code",
   "execution_count": 15,
   "metadata": {},
   "outputs": [
    {
     "data": {
      "text/plain": [
       "-1.0074626865671643"
      ]
     },
     "execution_count": 15,
     "metadata": {},
     "output_type": "execute_result"
    }
   ],
   "source": [
    "(13.6-20.35)/6.7"
   ]
  },
  {
   "cell_type": "markdown",
   "metadata": {},
   "source": [
    "### (optional) train network to overfit test_out"
   ]
  },
  {
   "cell_type": "code",
   "execution_count": 28,
   "metadata": {},
   "outputs": [],
   "source": [
    "optimizer = torch.optim.SGD(test_net.parameters(), lr=0.01)"
   ]
  },
  {
   "cell_type": "code",
   "execution_count": 29,
   "metadata": {},
   "outputs": [],
   "source": [
    "mse = torch.nn.MSELoss()"
   ]
  },
  {
   "cell_type": "code",
   "execution_count": 30,
   "metadata": {},
   "outputs": [
    {
     "name": "stdout",
     "output_type": "stream",
     "text": [
      "torch.Size([2, 1]) torch.Size([2, 1])\n",
      "tensor([[-0.2394],\n",
      "        [-0.2500]], grad_fn=<AddmmBackward>)\n",
      "torch.Size([2, 1]) torch.Size([2, 1])\n",
      "tensor([[-0.2358],\n",
      "        [-0.2385]], grad_fn=<AddmmBackward>)\n",
      "torch.Size([2, 1]) torch.Size([2, 1])\n",
      "tensor([[-0.2323],\n",
      "        [-0.2275]], grad_fn=<AddmmBackward>)\n",
      "torch.Size([2, 1]) torch.Size([2, 1])\n",
      "tensor([[-0.2289],\n",
      "        [-0.2167]], grad_fn=<AddmmBackward>)\n",
      "torch.Size([2, 1]) torch.Size([2, 1])\n",
      "tensor([[-0.2255],\n",
      "        [-0.2060]], grad_fn=<AddmmBackward>)\n",
      "torch.Size([2, 1]) torch.Size([2, 1])\n",
      "tensor([[-0.2223],\n",
      "        [-0.1953]], grad_fn=<AddmmBackward>)\n",
      "torch.Size([2, 1]) torch.Size([2, 1])\n",
      "tensor([[-0.2191],\n",
      "        [-0.1844]], grad_fn=<AddmmBackward>)\n",
      "torch.Size([2, 1]) torch.Size([2, 1])\n",
      "tensor([[-0.2160],\n",
      "        [-0.1734]], grad_fn=<AddmmBackward>)\n",
      "torch.Size([2, 1]) torch.Size([2, 1])\n",
      "tensor([[-0.2131],\n",
      "        [-0.1619]], grad_fn=<AddmmBackward>)\n",
      "torch.Size([2, 1]) torch.Size([2, 1])\n",
      "tensor([[-0.2102],\n",
      "        [-0.1500]], grad_fn=<AddmmBackward>)\n",
      "torch.Size([2, 1]) torch.Size([2, 1])\n",
      "tensor([[-0.2075],\n",
      "        [-0.1374]], grad_fn=<AddmmBackward>)\n",
      "torch.Size([2, 1]) torch.Size([2, 1])\n",
      "tensor([[-0.2050],\n",
      "        [-0.1241]], grad_fn=<AddmmBackward>)\n",
      "torch.Size([2, 1]) torch.Size([2, 1])\n",
      "tensor([[-0.2028],\n",
      "        [-0.1099]], grad_fn=<AddmmBackward>)\n",
      "torch.Size([2, 1]) torch.Size([2, 1])\n",
      "tensor([[-0.2008],\n",
      "        [-0.0945]], grad_fn=<AddmmBackward>)\n",
      "torch.Size([2, 1]) torch.Size([2, 1])\n",
      "tensor([[-0.1992],\n",
      "        [-0.0778]], grad_fn=<AddmmBackward>)\n",
      "torch.Size([2, 1]) torch.Size([2, 1])\n",
      "tensor([[-0.1983],\n",
      "        [-0.0595]], grad_fn=<AddmmBackward>)\n",
      "torch.Size([2, 1]) torch.Size([2, 1])\n",
      "tensor([[-0.1980],\n",
      "        [-0.0395]], grad_fn=<AddmmBackward>)\n",
      "torch.Size([2, 1]) torch.Size([2, 1])\n",
      "tensor([[-0.1989],\n",
      "        [-0.0174]], grad_fn=<AddmmBackward>)\n",
      "torch.Size([2, 1]) torch.Size([2, 1])\n",
      "tensor([[-0.2012],\n",
      "        [ 0.0070]], grad_fn=<AddmmBackward>)\n",
      "torch.Size([2, 1]) torch.Size([2, 1])\n",
      "tensor([[-0.2056],\n",
      "        [ 0.0341]], grad_fn=<AddmmBackward>)\n",
      "torch.Size([2, 1]) torch.Size([2, 1])\n",
      "tensor([[-0.2127],\n",
      "        [ 0.0643]], grad_fn=<AddmmBackward>)\n",
      "torch.Size([2, 1]) torch.Size([2, 1])\n",
      "tensor([[-0.2234],\n",
      "        [ 0.0980]], grad_fn=<AddmmBackward>)\n",
      "torch.Size([2, 1]) torch.Size([2, 1])\n",
      "tensor([[-0.2391],\n",
      "        [ 0.1359]], grad_fn=<AddmmBackward>)\n",
      "torch.Size([2, 1]) torch.Size([2, 1])\n",
      "tensor([[-0.2610],\n",
      "        [ 0.1791]], grad_fn=<AddmmBackward>)\n",
      "torch.Size([2, 1]) torch.Size([2, 1])\n",
      "tensor([[-0.2911],\n",
      "        [ 0.2288]], grad_fn=<AddmmBackward>)\n",
      "torch.Size([2, 1]) torch.Size([2, 1])\n",
      "tensor([[-0.3313],\n",
      "        [ 0.2871]], grad_fn=<AddmmBackward>)\n",
      "torch.Size([2, 1]) torch.Size([2, 1])\n",
      "tensor([[-0.3842],\n",
      "        [ 0.3570]], grad_fn=<AddmmBackward>)\n",
      "torch.Size([2, 1]) torch.Size([2, 1])\n",
      "tensor([[-0.4526],\n",
      "        [ 0.4425]], grad_fn=<AddmmBackward>)\n",
      "torch.Size([2, 1]) torch.Size([2, 1])\n",
      "tensor([[-0.5405],\n",
      "        [ 0.5485]], grad_fn=<AddmmBackward>)\n",
      "torch.Size([2, 1]) torch.Size([2, 1])\n",
      "tensor([[-0.6527],\n",
      "        [ 0.6809]], grad_fn=<AddmmBackward>)\n",
      "torch.Size([2, 1]) torch.Size([2, 1])\n",
      "tensor([[-0.7957],\n",
      "        [ 0.8453]], grad_fn=<AddmmBackward>)\n",
      "torch.Size([2, 1]) torch.Size([2, 1])\n",
      "tensor([[-0.9778],\n",
      "        [ 1.0463]], grad_fn=<AddmmBackward>)\n",
      "torch.Size([2, 1]) torch.Size([2, 1])\n",
      "tensor([[-1.2075],\n",
      "        [ 1.2863]], grad_fn=<AddmmBackward>)\n",
      "torch.Size([2, 1]) torch.Size([2, 1])\n",
      "tensor([[-1.4921],\n",
      "        [ 1.5657]], grad_fn=<AddmmBackward>)\n",
      "torch.Size([2, 1]) torch.Size([2, 1])\n",
      "tensor([[-1.8334],\n",
      "        [ 1.8830]], grad_fn=<AddmmBackward>)\n",
      "torch.Size([2, 1]) torch.Size([2, 1])\n",
      "tensor([[-2.2251],\n",
      "        [ 2.2379]], grad_fn=<AddmmBackward>)\n",
      "torch.Size([2, 1]) torch.Size([2, 1])\n",
      "tensor([[-2.6543],\n",
      "        [ 2.6295]], grad_fn=<AddmmBackward>)\n",
      "torch.Size([2, 1]) torch.Size([2, 1])\n",
      "tensor([[-3.1075],\n",
      "        [ 3.0534]], grad_fn=<AddmmBackward>)\n",
      "torch.Size([2, 1]) torch.Size([2, 1])\n",
      "tensor([[-3.5735],\n",
      "        [ 3.4995]], grad_fn=<AddmmBackward>)\n",
      "torch.Size([2, 1]) torch.Size([2, 1])\n",
      "tensor([[-4.0415],\n",
      "        [ 3.9539]], grad_fn=<AddmmBackward>)\n",
      "torch.Size([2, 1]) torch.Size([2, 1])\n",
      "tensor([[-4.5007],\n",
      "        [ 4.4035]], grad_fn=<AddmmBackward>)\n",
      "torch.Size([2, 1]) torch.Size([2, 1])\n",
      "tensor([[-4.9415],\n",
      "        [ 4.8379]], grad_fn=<AddmmBackward>)\n",
      "torch.Size([2, 1]) torch.Size([2, 1])\n",
      "tensor([[-5.3575],\n",
      "        [ 5.2501]], grad_fn=<AddmmBackward>)\n",
      "torch.Size([2, 1]) torch.Size([2, 1])\n",
      "tensor([[-5.7452],\n",
      "        [ 5.6362]], grad_fn=<AddmmBackward>)\n",
      "torch.Size([2, 1]) torch.Size([2, 1])\n",
      "tensor([[-6.1036],\n",
      "        [ 5.9947]], grad_fn=<AddmmBackward>)\n",
      "torch.Size([2, 1]) torch.Size([2, 1])\n",
      "tensor([[-6.4333],\n",
      "        [ 6.3257]], grad_fn=<AddmmBackward>)\n",
      "torch.Size([2, 1]) torch.Size([2, 1])\n",
      "tensor([[-6.7355],\n",
      "        [ 6.6303]], grad_fn=<AddmmBackward>)\n",
      "torch.Size([2, 1]) torch.Size([2, 1])\n",
      "tensor([[-7.0121],\n",
      "        [ 6.9099]], grad_fn=<AddmmBackward>)\n",
      "torch.Size([2, 1]) torch.Size([2, 1])\n",
      "tensor([[-7.2651],\n",
      "        [ 7.1665]], grad_fn=<AddmmBackward>)\n",
      "torch.Size([2, 1]) torch.Size([2, 1])\n",
      "tensor([[-7.4964],\n",
      "        [ 7.4016]], grad_fn=<AddmmBackward>)\n",
      "torch.Size([2, 1]) torch.Size([2, 1])\n",
      "tensor([[-7.7079],\n",
      "        [ 7.6171]], grad_fn=<AddmmBackward>)\n",
      "torch.Size([2, 1]) torch.Size([2, 1])\n",
      "tensor([[-7.9012],\n",
      "        [ 7.8145]], grad_fn=<AddmmBackward>)\n",
      "torch.Size([2, 1]) torch.Size([2, 1])\n",
      "tensor([[-8.0779],\n",
      "        [ 7.9954]], grad_fn=<AddmmBackward>)\n",
      "torch.Size([2, 1]) torch.Size([2, 1])\n",
      "tensor([[-8.2396],\n",
      "        [ 8.1611]], grad_fn=<AddmmBackward>)\n",
      "torch.Size([2, 1]) torch.Size([2, 1])\n",
      "tensor([[-8.3875],\n",
      "        [ 8.3130]], grad_fn=<AddmmBackward>)\n",
      "torch.Size([2, 1]) torch.Size([2, 1])\n",
      "tensor([[-8.5228],\n",
      "        [ 8.4523]], grad_fn=<AddmmBackward>)\n",
      "torch.Size([2, 1]) torch.Size([2, 1])\n",
      "tensor([[-8.6467],\n",
      "        [ 8.5799]], grad_fn=<AddmmBackward>)\n",
      "torch.Size([2, 1]) torch.Size([2, 1])\n",
      "tensor([[-8.7600],\n",
      "        [ 8.6969]], grad_fn=<AddmmBackward>)\n",
      "torch.Size([2, 1]) torch.Size([2, 1])\n",
      "tensor([[-8.8639],\n",
      "        [ 8.8042]], grad_fn=<AddmmBackward>)\n",
      "torch.Size([2, 1]) torch.Size([2, 1])\n",
      "tensor([[-8.9589],\n",
      "        [ 8.9026]], grad_fn=<AddmmBackward>)\n",
      "torch.Size([2, 1]) torch.Size([2, 1])\n",
      "tensor([[-9.0460],\n",
      "        [ 8.9928]], grad_fn=<AddmmBackward>)\n",
      "torch.Size([2, 1]) torch.Size([2, 1])\n",
      "tensor([[-9.1257],\n",
      "        [ 9.0756]], grad_fn=<AddmmBackward>)\n",
      "torch.Size([2, 1]) torch.Size([2, 1])\n",
      "tensor([[-9.1988],\n",
      "        [ 9.1515]], grad_fn=<AddmmBackward>)\n",
      "torch.Size([2, 1]) torch.Size([2, 1])\n",
      "tensor([[-9.2657],\n",
      "        [ 9.2212]], grad_fn=<AddmmBackward>)\n",
      "torch.Size([2, 1]) torch.Size([2, 1])\n",
      "tensor([[-9.3270],\n",
      "        [ 9.2851]], grad_fn=<AddmmBackward>)\n",
      "torch.Size([2, 1]) torch.Size([2, 1])\n",
      "tensor([[-9.3832],\n",
      "        [ 9.3437]], grad_fn=<AddmmBackward>)\n",
      "torch.Size([2, 1]) torch.Size([2, 1])\n",
      "tensor([[-9.4347],\n",
      "        [ 9.3975]], grad_fn=<AddmmBackward>)\n",
      "torch.Size([2, 1]) torch.Size([2, 1])\n",
      "tensor([[-9.4819],\n",
      "        [ 9.4469]], grad_fn=<AddmmBackward>)\n",
      "torch.Size([2, 1]) torch.Size([2, 1])\n",
      "tensor([[-9.5252],\n",
      "        [ 9.4922]], grad_fn=<AddmmBackward>)\n",
      "torch.Size([2, 1]) torch.Size([2, 1])\n",
      "tensor([[-9.5648],\n",
      "        [ 9.5338]], grad_fn=<AddmmBackward>)\n",
      "torch.Size([2, 1]) torch.Size([2, 1])\n",
      "tensor([[-9.6011],\n",
      "        [ 9.5720]], grad_fn=<AddmmBackward>)\n",
      "torch.Size([2, 1]) torch.Size([2, 1])\n",
      "tensor([[-9.6344],\n",
      "        [ 9.6070]], grad_fn=<AddmmBackward>)\n",
      "torch.Size([2, 1]) torch.Size([2, 1])\n",
      "tensor([[-9.6649],\n",
      "        [ 9.6392]], grad_fn=<AddmmBackward>)\n",
      "torch.Size([2, 1]) torch.Size([2, 1])\n",
      "tensor([[-9.6929],\n",
      "        [ 9.6687]], grad_fn=<AddmmBackward>)\n",
      "torch.Size([2, 1]) torch.Size([2, 1])\n",
      "tensor([[-9.7185],\n",
      "        [ 9.6958]], grad_fn=<AddmmBackward>)\n",
      "torch.Size([2, 1]) torch.Size([2, 1])\n",
      "tensor([[-9.7420],\n",
      "        [ 9.7206]], grad_fn=<AddmmBackward>)\n",
      "torch.Size([2, 1]) torch.Size([2, 1])\n",
      "tensor([[-9.7635],\n",
      "        [ 9.7435]], grad_fn=<AddmmBackward>)\n",
      "torch.Size([2, 1]) torch.Size([2, 1])\n",
      "tensor([[-9.7833],\n",
      "        [ 9.7644]], grad_fn=<AddmmBackward>)\n",
      "torch.Size([2, 1]) torch.Size([2, 1])\n",
      "tensor([[-9.8013],\n",
      "        [ 9.7837]], grad_fn=<AddmmBackward>)\n",
      "torch.Size([2, 1]) torch.Size([2, 1])\n",
      "tensor([[-9.8179],\n",
      "        [ 9.8014]], grad_fn=<AddmmBackward>)\n",
      "torch.Size([2, 1]) torch.Size([2, 1])\n",
      "tensor([[-9.8331],\n",
      "        [ 9.8176]], grad_fn=<AddmmBackward>)\n",
      "torch.Size([2, 1]) torch.Size([2, 1])\n",
      "tensor([[-9.8470],\n",
      "        [ 9.8325]], grad_fn=<AddmmBackward>)\n",
      "torch.Size([2, 1]) torch.Size([2, 1])\n",
      "tensor([[-9.8598],\n",
      "        [ 9.8462]], grad_fn=<AddmmBackward>)\n",
      "torch.Size([2, 1]) torch.Size([2, 1])\n",
      "tensor([[-9.8715],\n",
      "        [ 9.8587]], grad_fn=<AddmmBackward>)\n",
      "torch.Size([2, 1]) torch.Size([2, 1])\n",
      "tensor([[-9.8822],\n",
      "        [ 9.8703]], grad_fn=<AddmmBackward>)\n",
      "torch.Size([2, 1]) torch.Size([2, 1])\n",
      "tensor([[-9.8921],\n",
      "        [ 9.8809]], grad_fn=<AddmmBackward>)\n",
      "torch.Size([2, 1]) torch.Size([2, 1])\n",
      "tensor([[-9.9011],\n",
      "        [ 9.8906]], grad_fn=<AddmmBackward>)\n",
      "torch.Size([2, 1]) torch.Size([2, 1])\n",
      "tensor([[-9.9093],\n",
      "        [ 9.8995]], grad_fn=<AddmmBackward>)\n",
      "torch.Size([2, 1]) torch.Size([2, 1])\n",
      "tensor([[-9.9169],\n",
      "        [ 9.9077]], grad_fn=<AddmmBackward>)\n",
      "torch.Size([2, 1]) torch.Size([2, 1])\n",
      "tensor([[-9.9238],\n",
      "        [ 9.9153]], grad_fn=<AddmmBackward>)\n",
      "torch.Size([2, 1]) torch.Size([2, 1])\n",
      "tensor([[-9.9302],\n",
      "        [ 9.9222]], grad_fn=<AddmmBackward>)\n",
      "torch.Size([2, 1]) torch.Size([2, 1])\n",
      "tensor([[-9.9360],\n",
      "        [ 9.9285]], grad_fn=<AddmmBackward>)\n",
      "torch.Size([2, 1]) torch.Size([2, 1])\n",
      "tensor([[-9.9413],\n",
      "        [ 9.9344]], grad_fn=<AddmmBackward>)\n",
      "torch.Size([2, 1]) torch.Size([2, 1])\n",
      "tensor([[-9.9462],\n",
      "        [ 9.9397]], grad_fn=<AddmmBackward>)\n",
      "torch.Size([2, 1]) torch.Size([2, 1])\n",
      "tensor([[-9.9507],\n",
      "        [ 9.9446]], grad_fn=<AddmmBackward>)\n",
      "torch.Size([2, 1]) torch.Size([2, 1])\n",
      "tensor([[-9.9548],\n",
      "        [ 9.9492]], grad_fn=<AddmmBackward>)\n",
      "torch.Size([2, 1]) torch.Size([2, 1])\n",
      "tensor([[-9.9586],\n",
      "        [ 9.9533]], grad_fn=<AddmmBackward>)\n",
      "torch.Size([2, 1]) torch.Size([2, 1])\n",
      "tensor([[-9.9620],\n",
      "        [ 9.9571]], grad_fn=<AddmmBackward>)\n",
      "torch.Size([2, 1]) torch.Size([2, 1])\n",
      "tensor([[-9.9652],\n",
      "        [ 9.9606]], grad_fn=<AddmmBackward>)\n",
      "torch.Size([2, 1]) torch.Size([2, 1])\n",
      "tensor([[-9.9681],\n",
      "        [ 9.9638]], grad_fn=<AddmmBackward>)\n"
     ]
    }
   ],
   "source": [
    "for ep in range(100):\n",
    "    preds = test_net(test_in)\n",
    "    print(preds.shape, test_out.shape)\n",
    "    loss = mse(preds, test_out)\n",
    "    optimizer.zero_grad()\n",
    "    loss.backward()\n",
    "    optimizer.step()\n",
    "    print(preds)"
   ]
  },
  {
   "cell_type": "code",
   "execution_count": 32,
   "metadata": {},
   "outputs": [
    {
     "data": {
      "text/plain": [
       "0.01"
      ]
     },
     "execution_count": 32,
     "metadata": {},
     "output_type": "execute_result"
    }
   ],
   "source": [
    "optimizer.param_groups[0]['lr']"
   ]
  },
  {
   "cell_type": "code",
   "execution_count": null,
   "metadata": {},
   "outputs": [],
   "source": []
  }
 ],
 "metadata": {
  "kernelspec": {
   "display_name": "py36",
   "language": "python",
   "name": "py36"
  },
  "language_info": {
   "codemirror_mode": {
    "name": "ipython",
    "version": 3
   },
   "file_extension": ".py",
   "mimetype": "text/x-python",
   "name": "python",
   "nbconvert_exporter": "python",
   "pygments_lexer": "ipython3",
   "version": "3.6.8"
  }
 },
 "nbformat": 4,
 "nbformat_minor": 4
}
