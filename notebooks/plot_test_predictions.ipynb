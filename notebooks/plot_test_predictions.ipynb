{
 "cells": [
  {
   "cell_type": "code",
   "execution_count": 1,
   "metadata": {},
   "outputs": [],
   "source": [
    "%load_ext autoreload\n",
    "%autoreload 2"
   ]
  },
  {
   "cell_type": "code",
   "execution_count": 81,
   "metadata": {},
   "outputs": [],
   "source": [
    "import os, sys, math\n",
    "import numpy as np\n",
    "import matplotlib.pyplot as plt\n",
    "from argparse import Namespace\n",
    "from tqdm.notebook import tqdm\n",
    "from sklearn.metrics import explained_variance_score as var_exp\n",
    "\n",
    "import torch \n",
    "from torch.utils.data import DataLoader\n",
    "\n",
    "\n",
    "sys.path.append('../')\n",
    "from utils.arg_parser import parse_exp_args\n",
    "from utils.common import PlainDataset\n",
    "from run import load_model"
   ]
  },
  {
   "cell_type": "markdown",
   "metadata": {},
   "source": [
    "## Set options"
   ]
  },
  {
   "cell_type": "code",
   "execution_count": 66,
   "metadata": {},
   "outputs": [],
   "source": [
    "# runid = 'fc_delta_full_pinj'\n",
    "runid = 'cnn_delta_full_pinj_clean'\n",
    "\n",
    "dataset = 'cnn_delta_full_pinj_clean'\n",
    "\n",
    "ep = 180\n",
    "plot_train = True\n",
    "device = 'cuda:7'\n",
    "train_batch = 1024\n",
    "# device = 'cpu'"
   ]
  },
  {
   "cell_type": "code",
   "execution_count": 67,
   "metadata": {},
   "outputs": [
    {
     "name": "stdout",
     "output_type": "stream",
     "text": [
      "/home/scratch/youngsec/rs/fusion/dynamics_models/NNKit/logs/cnn_delta_full_pinj_clean\n",
      "/home/scratch/youngsec/rs/fusion/dynamics_models/NNKit/data/cnn_delta_full_pinj_clean\n"
     ]
    }
   ],
   "source": [
    "pred_dir = '/home/scratch/youngsec/rs/fusion/dynamics_models/NNKit/logs/{}'.format(runid)\n",
    "data_dir = '/home/scratch/youngsec/rs/fusion/dynamics_models/NNKit/data/{}'.format(dataset)\n",
    "\n",
    "print(pred_dir)\n",
    "print(data_dir)"
   ]
  },
  {
   "cell_type": "markdown",
   "metadata": {},
   "source": [
    "### Load test points, and train points/model"
   ]
  },
  {
   "cell_type": "code",
   "execution_count": 68,
   "metadata": {},
   "outputs": [
    {
     "name": "stdout",
     "output_type": "stream",
     "text": [
      "loaded test predictions and gt\n",
      "(17317, 1) (17317, 1)\n",
      "loaded train data\n",
      "(156580, 12, 100) (156580, 1)\n"
     ]
    }
   ],
   "source": [
    "test_preds = np.load(os.path.join(pred_dir, 'test_preds_ep_{}.npy'.format(ep)))\n",
    "test_X = np.load(os.path.join(data_dir, 'test_X.npy'))\n",
    "test_y = np.load(os.path.join(data_dir, 'test_y.npy'))\n",
    "print('loaded test predictions and gt')\n",
    "print(test_preds.shape, test_y.shape)\n",
    "num_test = test_y.shape[0]\n",
    "\n",
    "if plot_train:\n",
    "    train_X = np.load(os.path.join(data_dir, 'train_X.npy'))\n",
    "    train_y = np.load(os.path.join(data_dir, 'train_y.npy'))\n",
    "    print('loaded train data')\n",
    "    print(train_X.shape, train_y.shape)\n",
    "    num_train = train_y.shape[0]"
   ]
  },
  {
   "cell_type": "markdown",
   "metadata": {},
   "source": [
    "### (optional) see which test predictions are non zero"
   ]
  },
  {
   "cell_type": "code",
   "execution_count": 69,
   "metadata": {},
   "outputs": [],
   "source": [
    "# non_zero = []\n",
    "# for i in range(test_preds.shape[0]):\n",
    "#     if test_preds[i] != 0:\n",
    "#         non_zero.append(i)\n",
    "# non_zero = np.array(non_zero)\n",
    "# print(non_zero)\n",
    "# print(test_preds[non_zero])\n",
    "# print(test_preds[non_zero].min())"
   ]
  },
  {
   "cell_type": "markdown",
   "metadata": {},
   "source": [
    "## load test model"
   ]
  },
  {
   "cell_type": "code",
   "execution_count": 70,
   "metadata": {},
   "outputs": [
    {
     "name": "stdout",
     "output_type": "stream",
     "text": [
      "Loading model from /home/scratch/youngsec/rs/fusion/dynamics_models/NNKit/logs/cnn_delta_full_pinj_clean/model_ep_180\n",
      "input to conv1D of 12 channels * 100 signal length (1200 values)\n",
      "output of conv1D of 64 channels * 91 signal length (5824 values), actv None\n",
      "output of conv1D of 128 channels * 82 signal length (10496 values), actv None\n",
      "output of conv1D of 128 channels * 73 signal length (9344 values), actv None\n",
      "output of conv1D of 64 channels * 69 signal length (4416 values), actv None\n",
      "output of conv1D of 32 channels * 65 signal length (2080 values), actv None\n",
      "output of conv1D of 5 channels * 64 signal length (320 values), actv None\n",
      "output of linear layer of 256 values, actv relu\n",
      "output of linear layer of 256 values, actv relu\n",
      "output of linear layer of 128 values, actv relu\n",
      "output of linear layer of 1 values, actv None\n",
      "ModuleList(\n",
      "  (0): Conv1DLayer(\n",
      "    (bn): BatchNorm1d(64, eps=1e-05, momentum=0.1, affine=True, track_running_stats=True)\n",
      "  )\n",
      "  (1): Conv1DLayer()\n",
      "  (2): Conv1DLayer(\n",
      "    (bn): BatchNorm1d(128, eps=1e-05, momentum=0.1, affine=True, track_running_stats=True)\n",
      "  )\n",
      "  (3): Conv1DLayer()\n",
      "  (4): Conv1DLayer(\n",
      "    (bn): BatchNorm1d(32, eps=1e-05, momentum=0.1, affine=True, track_running_stats=True)\n",
      "  )\n",
      "  (5): Conv1DLayer()\n",
      "  (6): LinearLayer(\n",
      "    (bn): BatchNorm1d(256, eps=1e-05, momentum=0.1, affine=True, track_running_stats=True)\n",
      "    (activation): ReLU(inplace=True)\n",
      "  )\n",
      "  (7): LinearLayer(\n",
      "    (activation): ReLU(inplace=True)\n",
      "  )\n",
      "  (8): LinearLayer(\n",
      "    (activation): ReLU(inplace=True)\n",
      "  )\n",
      "  (9): LinearLayer()\n",
      ")\n",
      "Sending model to device cuda:7\n",
      "loaded model\n",
      "Loading data into datasets\n",
      "Loaded 156580 datapoints\n"
     ]
    }
   ],
   "source": [
    "if plot_train:\n",
    "    args_file = os.path.join(pred_dir, 'args.txt')\n",
    "    model_path = os.path.join(pred_dir, 'model_ep_{}'.format(ep))\n",
    "    temp_args = parse_exp_args(args_file)\n",
    "    temp_args.multi_gpu = False\n",
    "    temp_args.device = device\n",
    "    temp_args.model_path = model_path\n",
    "#     temp_args = Namespace(model_path=model_path,\n",
    "#                           device=device,\n",
    "#                           multi_gpu=False)\n",
    "    test_model = load_model(temp_args)\n",
    "    test_model.eval()\n",
    "    print('loaded model')\n",
    "    train_dataset = PlainDataset(None, None, False, X_arr=train_X, y_arr=train_y)\n",
    "    train_loader = DataLoader(train_dataset, batch_size=train_batch, shuffle=False)"
   ]
  },
  {
   "cell_type": "code",
   "execution_count": 71,
   "metadata": {},
   "outputs": [],
   "source": [
    "#list(test_model.named_parameters())"
   ]
  },
  {
   "cell_type": "markdown",
   "metadata": {},
   "source": [
    "### Get training points"
   ]
  },
  {
   "cell_type": "code",
   "execution_count": 72,
   "metadata": {},
   "outputs": [
    {
     "name": "stdout",
     "output_type": "stream",
     "text": [
      "getting train predictions now\n",
      "total iterations 153\n"
     ]
    },
    {
     "data": {
      "application/vnd.jupyter.widget-view+json": {
       "model_id": "db480a85a5cc42788df97e8386eb8ecf",
       "version_major": 2,
       "version_minor": 0
      },
      "text/plain": [
       "HBox(children=(FloatProgress(value=1.0, bar_style='info', max=1.0), HTML(value='')))"
      ]
     },
     "metadata": {},
     "output_type": "display_data"
    },
    {
     "name": "stdout",
     "output_type": "stream",
     "text": [
      "\n",
      "(156580, 1)\n"
     ]
    }
   ],
   "source": [
    "if plot_train:\n",
    "    print('getting train predictions now')\n",
    "    train_pred_list = []\n",
    "    print('total iterations {}'.format(math.ceil(num_train/train_batch)))\n",
    "    for idx, (curr_X, _) in tqdm(enumerate(train_loader)):\n",
    "        with torch.no_grad():\n",
    "            curr_X = curr_X.to(device)\n",
    "            curr_preds = test_model(curr_X)\n",
    "            train_pred_list.append(curr_preds.cpu().numpy())\n",
    "    train_preds = np.concatenate(train_pred_list, axis=0)\n",
    "    print(train_preds.shape)"
   ]
  },
  {
   "cell_type": "markdown",
   "metadata": {},
   "source": [
    "### check difference in test preds and test_model output on test_X are same"
   ]
  },
  {
   "cell_type": "code",
   "execution_count": 73,
   "metadata": {},
   "outputs": [
    {
     "name": "stdout",
     "output_type": "stream",
     "text": [
      "1.8551946e-06 -1.847744e-06\n"
     ]
    }
   ],
   "source": [
    "temp = test_model(torch.FloatTensor(test_X).to(device))\n",
    "test_diff = temp.detach().cpu().numpy() - test_preds\n",
    "print(test_diff.max(), test_diff.min())"
   ]
  },
  {
   "cell_type": "markdown",
   "metadata": {},
   "source": [
    "## Sort outputs for plot"
   ]
  },
  {
   "cell_type": "code",
   "execution_count": 74,
   "metadata": {},
   "outputs": [
    {
     "name": "stdout",
     "output_type": "stream",
     "text": [
      "[ 5740 13506 13516 ...  5203  4663 13515]\n",
      "[26794 17864  3110 ... 11190 32662 23915]\n"
     ]
    }
   ],
   "source": [
    "test_y_order = np.argsort(test_y, axis=0).flatten()\n",
    "print(test_y_order)\n",
    "if plot_train:\n",
    "    train_y_order = np.argsort(train_y, axis=0).flatten()\n",
    "    print(train_y_order)"
   ]
  },
  {
   "cell_type": "code",
   "execution_count": 75,
   "metadata": {},
   "outputs": [],
   "source": [
    "sorted_test_preds = test_preds[test_y_order]\n",
    "sorted_test_y = test_y[test_y_order]\n",
    "if plot_train:\n",
    "    sorted_train_preds = train_preds[train_y_order]\n",
    "    sorted_train_y = train_y[train_y_order]"
   ]
  },
  {
   "cell_type": "markdown",
   "metadata": {},
   "source": [
    "### Plot test performance"
   ]
  },
  {
   "cell_type": "code",
   "execution_count": 83,
   "metadata": {},
   "outputs": [
    {
     "name": "stdout",
     "output_type": "stream",
     "text": [
      "MSE: 0.046773\n",
      "Variance explained 0.277577\n"
     ]
    },
    {
     "data": {
      "image/png": "[encoded data removed]",
      "text/plain": [
       "<Figure size 720x720 with 1 Axes>"
      ]
     },
     "metadata": {
      "needs_background": "light"
     },
     "output_type": "display_data"
    }
   ],
   "source": [
    "plt.scatter(np.arange(num_test), sorted_test_preds, label='test predictions', s=2)\n",
    "plt.scatter(np.arange(num_test), sorted_test_y, label='test gt', s=2)\n",
    "\n",
    "curr_MSE = np.mean((sorted_test_preds - sorted_test_y)**2)\n",
    "print('MSE: {0:.6f}'.format(curr_MSE))\n",
    "curr_var_exp = var_exp(sorted_test_y, sorted_test_preds)\n",
    "print('Variance explained {0:.6f}'.format(curr_var_exp))\n",
    "plt.legend()\n",
    "fig = plt.gcf()\n",
    "fig.set_size_inches(10,10)\n",
    "\n",
    "# # first 1000\n",
    "# plt.xlim(0,1000)\n",
    "# last 100\n",
    "# plt.xlim(num_test-1000, num_test)\n",
    "fig.tight_layout()\n",
    "# fig.autoscale()\n",
    "plt.ylim(-3,3)\n",
    "\n",
    "plt.show()"
   ]
  },
  {
   "cell_type": "code",
   "execution_count": 77,
   "metadata": {},
   "outputs": [
    {
     "data": {
      "text/plain": [
       "(-1.3285606, 0.79601574)"
      ]
     },
     "execution_count": 77,
     "metadata": {},
     "output_type": "execute_result"
    }
   ],
   "source": [
    "test_preds.min(), test_preds.max()"
   ]
  },
  {
   "cell_type": "code",
   "execution_count": 84,
   "metadata": {},
   "outputs": [
    {
     "name": "stdout",
     "output_type": "stream",
     "text": [
      "MSE: 0.0400580518\n",
      "Variance explained 0.340871\n"
     ]
    },
    {
     "data": {
      "image/png": "[encoded data removed]",
      "text/plain": [
       "<Figure size 720x720 with 1 Axes>"
      ]
     },
     "metadata": {
      "needs_background": "light"
     },
     "output_type": "display_data"
    }
   ],
   "source": [
    "plt.scatter(np.arange(num_train), sorted_train_preds, label='train predictions', s=2)\n",
    "plt.scatter(np.arange(num_train), sorted_train_y, label='train gt', s=2)\n",
    "curr_MSE = np.mean((sorted_train_preds - sorted_train_y)**2)\n",
    "print('MSE: {0:.10f}'.format(curr_MSE))\n",
    "curr_var_exp = var_exp(sorted_train_y, sorted_train_preds)\n",
    "print('Variance explained {0:.6f}'.format(curr_var_exp))\n",
    "plt.legend()\n",
    "fig = plt.gcf()\n",
    "fig.set_size_inches(10,10)\n",
    "\n",
    "# # first 100\n",
    "# plt.xlim(0,100)\n",
    "# last 100\n",
    "# plt.xlim(num_train-100, num_train)\n",
    "# plt.ylim(-1.2, 1.2)\n",
    "\n",
    "plt.show()"
   ]
  },
  {
   "cell_type": "code",
   "execution_count": 79,
   "metadata": {},
   "outputs": [
    {
     "data": {
      "text/plain": [
       "(-1.4178917, 1.3798894)"
      ]
     },
     "execution_count": 79,
     "metadata": {},
     "output_type": "execute_result"
    }
   ],
   "source": [
    "sorted_train_preds.min(), sorted_train_preds.max()"
   ]
  },
  {
   "cell_type": "code",
   "execution_count": 80,
   "metadata": {},
   "outputs": [
    {
     "data": {
      "text/plain": [
       "('layers.7.bias',\n",
       " Parameter containing:\n",
       " tensor([-0.0284, -0.1107,  0.1218, -0.1967, -0.0663,  0.1205, -0.1644,  0.0375,\n",
       "          0.0445, -0.2501,  0.0501, -0.0132,  0.0063, -0.0330,  0.0911, -0.0053,\n",
       "         -0.1036,  0.1130,  0.0595, -0.0985, -0.0041,  0.0004, -0.0734,  0.0185,\n",
       "         -0.0651, -0.0278, -0.0422, -0.0512, -0.3339,  0.0221, -0.1117, -0.1293,\n",
       "          0.0309, -0.1901,  0.0153, -0.0212, -0.0286, -0.0152, -0.0102, -0.0386,\n",
       "         -0.0605, -0.0819,  0.0140,  0.0370, -0.0073,  0.0542,  0.0103, -0.0617,\n",
       "         -0.0091,  0.1841, -0.0047,  0.0363, -0.2294,  0.0320,  0.1559,  0.0014,\n",
       "          0.0220, -0.0305,  0.0229, -0.0124,  0.1273,  0.0049, -0.0676, -0.1548,\n",
       "         -0.1504,  0.0780, -0.0156, -0.0117, -0.0010, -0.0630, -0.0833,  0.0511,\n",
       "          0.0180,  0.1379, -0.0776, -0.0074, -0.0384,  0.0754, -0.0496, -0.0078,\n",
       "          0.0495, -0.0221, -0.0051,  0.0608,  0.1318, -0.2627, -0.0160, -0.0357,\n",
       "         -0.0464, -0.0137, -0.0659, -0.0269, -0.0671,  0.0434,  0.1592,  0.1204,\n",
       "          0.0397,  0.0094, -0.0074,  0.0429, -0.0291,  0.0197,  0.0032,  0.1196,\n",
       "          0.0599,  0.0775, -0.1636,  0.0641,  0.0031, -0.0388, -0.0093,  0.1375,\n",
       "          0.0498, -0.0624,  0.0121,  0.0034, -0.0635, -0.0908,  0.0387,  0.0906,\n",
       "          0.0374,  0.0077,  0.0777, -0.0743, -0.0585,  0.0893, -0.0345, -0.2415,\n",
       "          0.0100, -0.0517,  0.0294, -0.0495,  0.0839, -0.0115,  0.0450, -0.0403,\n",
       "          0.0869,  0.0593, -0.1763, -0.0188,  0.0611,  0.0067, -0.0343,  0.0382,\n",
       "         -0.0270, -0.0659, -0.0195, -0.0354, -0.0696, -0.0553, -0.0770,  0.0267,\n",
       "         -0.0413, -0.0375, -0.0586, -0.0303,  0.0375, -0.0801, -0.0568,  0.0719,\n",
       "         -0.0094, -0.0820,  0.1018, -0.0232, -0.0072, -0.0952,  0.0167, -0.0393,\n",
       "          0.0080, -0.0656, -0.0334,  0.0146,  0.1352, -0.0536, -0.0623,  0.0266,\n",
       "         -0.0294,  0.0568, -0.0591,  0.0520,  0.0016,  0.0120,  0.0280,  0.0174,\n",
       "         -0.0881,  0.0268,  0.1082, -0.0011,  0.0741,  0.0336, -0.0460, -0.0341,\n",
       "         -0.0033,  0.0658, -0.0426, -0.1291,  0.0174, -0.2116,  0.0069,  0.2409,\n",
       "         -0.0599, -0.2322, -0.2313, -0.0189,  0.0330,  0.0295, -0.0391, -0.0255,\n",
       "          0.0584, -0.0611, -0.0579, -0.0405,  0.0527,  0.1833,  0.1610, -0.1071,\n",
       "         -0.0051,  0.0031, -0.0486, -0.0278,  0.0723, -0.0656, -0.0185, -0.0108,\n",
       "         -0.0567,  0.0559,  0.0626, -0.0605, -0.0642,  0.0591, -0.0517, -0.0079,\n",
       "         -0.0358,  0.0104, -0.0332, -0.0478, -0.0607, -0.0838, -0.0935,  0.1270,\n",
       "          0.0325,  0.0409,  0.0118, -0.0068, -0.1025,  0.0410,  0.0519,  0.0907,\n",
       "         -0.1006,  0.0824, -0.0148,  0.0121,  0.0718, -0.0756,  0.0461, -0.0420],\n",
       "        device='cuda:7', requires_grad=True))"
      ]
     },
     "execution_count": 80,
     "metadata": {},
     "output_type": "execute_result"
    }
   ],
   "source": [
    "list(test_model.named_parameters())[-5]"
   ]
  },
  {
   "cell_type": "code",
   "execution_count": 29,
   "metadata": {},
   "outputs": [
    {
     "data": {
      "text/plain": [
       "cnn(\n",
       "  (loss): MSELoss()\n",
       "  (layers): ModuleList(\n",
       "    (0): Conv1DLayer(\n",
       "      (pool): MaxPool1d(kernel_size=5, stride=1, padding=0, dilation=1, ceil_mode=False)\n",
       "    )\n",
       "    (1): Conv1DLayer(\n",
       "      (pool): MaxPool1d(kernel_size=5, stride=1, padding=0, dilation=1, ceil_mode=False)\n",
       "    )\n",
       "    (2): Conv1DLayer(\n",
       "      (pool): AvgPool1d(kernel_size=(3,), stride=(1,), padding=(0,))\n",
       "    )\n",
       "    (3): Conv1DLayer(\n",
       "      (pool): AvgPool1d(kernel_size=(2,), stride=(1,), padding=(0,))\n",
       "    )\n",
       "    (4): LinearLayer(\n",
       "      (bn): BatchNorm1d(256, eps=1e-05, momentum=0.1, affine=True, track_running_stats=True)\n",
       "      (activation): SELU(inplace=True)\n",
       "    )\n",
       "    (5): LinearLayer(\n",
       "      (bn): BatchNorm1d(256, eps=1e-05, momentum=0.1, affine=True, track_running_stats=True)\n",
       "      (activation): SELU(inplace=True)\n",
       "    )\n",
       "    (6): LinearLayer(\n",
       "      (bn): BatchNorm1d(128, eps=1e-05, momentum=0.1, affine=True, track_running_stats=True)\n",
       "      (activation): SELU(inplace=True)\n",
       "    )\n",
       "    (7): LinearLayer(\n",
       "      (activation): ReLU(inplace=True)\n",
       "    )\n",
       "  )\n",
       ")"
      ]
     },
     "execution_count": 29,
     "metadata": {},
     "output_type": "execute_result"
    }
   ],
   "source": [
    "test_model"
   ]
  },
  {
   "cell_type": "code",
   "execution_count": null,
   "metadata": {},
   "outputs": [],
   "source": []
  },
  {
   "cell_type": "code",
   "execution_count": 36,
   "metadata": {
    "scrolled": true
   },
   "outputs": [
    {
     "name": "stdout",
     "output_type": "stream",
     "text": [
      "2 0.0012773023374632775\n"
     ]
    }
   ],
   "source": [
    "num_out = 0\n",
    "for i in train_y:\n",
    "    if np.abs(i) > 3.4:\n",
    "#         print(i)\n",
    "        num_out += 1\n",
    "print(num_out, 100*num_out/num_train)"
   ]
  },
  {
   "cell_type": "code",
   "execution_count": 38,
   "metadata": {},
   "outputs": [
    {
     "name": "stdout",
     "output_type": "stream",
     "text": [
      "2 0.011549344574695386\n"
     ]
    }
   ],
   "source": [
    "num_out = 0\n",
    "for i in test_y:\n",
    "    if np.abs(i) > 3.4:\n",
    "#         print(i)\n",
    "        num_out += 1\n",
    "print(num_out, 100*num_out/num_test)"
   ]
  },
  {
   "cell_type": "code",
   "execution_count": 16,
   "metadata": {},
   "outputs": [],
   "source": [
    "test_z = (test_y - np.mean(test_y))/np.std(test_y)"
   ]
  },
  {
   "cell_type": "code",
   "execution_count": 18,
   "metadata": {},
   "outputs": [
    {
     "data": {
      "text/plain": [
       "0.00554048594678825"
      ]
     },
     "execution_count": 18,
     "metadata": {},
     "output_type": "execute_result"
    }
   ],
   "source": [
    "np.sum(np.abs(test_z)>3 )/num_test"
   ]
  },
  {
   "cell_type": "code",
   "execution_count": 24,
   "metadata": {},
   "outputs": [
    {
     "data": {
      "text/plain": [
       "96"
      ]
     },
     "execution_count": 24,
     "metadata": {},
     "output_type": "execute_result"
    }
   ],
   "source": [
    "test_y[np.abs(test_z)>3].size"
   ]
  },
  {
   "cell_type": "code",
   "execution_count": 22,
   "metadata": {},
   "outputs": [
    {
     "data": {
      "text/plain": [
       "1.2456196956933563"
      ]
     },
     "execution_count": 22,
     "metadata": {},
     "output_type": "execute_result"
    }
   ],
   "source": [
    "np.abs(test_y[np.abs(test_z)>3]).min()"
   ]
  },
  {
   "cell_type": "code",
   "execution_count": 16,
   "metadata": {},
   "outputs": [
    {
     "data": {
      "text/plain": [
       "(17327, 1)"
      ]
     },
     "execution_count": 16,
     "metadata": {},
     "output_type": "execute_result"
    }
   ],
   "source": [
    "test_y.shape"
   ]
  },
  {
   "cell_type": "code",
   "execution_count": null,
   "metadata": {},
   "outputs": [],
   "source": []
  }
 ],
 "metadata": {
  "kernelspec": {
   "display_name": "py36",
   "language": "python",
   "name": "py36"
  },
  "language_info": {
   "codemirror_mode": {
    "name": "ipython",
    "version": 3
   },
   "file_extension": ".py",
   "mimetype": "text/x-python",
   "name": "python",
   "nbconvert_exporter": "python",
   "pygments_lexer": "ipython3",
   "version": "3.6.8"
  }
 },
 "nbformat": 4,
 "nbformat_minor": 4
}
